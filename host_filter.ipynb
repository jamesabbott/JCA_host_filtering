{
 "cells": [
  {
   "cell_type": "markdown",
   "id": "169049dd-0dc6-434b-a2f1-056971fe155b",
   "metadata": {},
   "source": [
    "# Host Filtering Assessment\n",
    "\n",
    "Filtering the barley genome from NT metagenomic reads was observed to bias taxonomic classifications, with a reduction in Firmicutes. Let's try to work out why...\n",
    "\n",
    "## Barley Genome\n",
    "\n",
    "We can use the Morex V3 assembly which includes PacBio HiFi reads, and so is less likely to have bacterial contaminants in the assembly than Morex V2 which was used for the previous analysis. "
   ]
  },
  {
   "cell_type": "code",
   "execution_count": 3,
   "id": "ba028406-f4f9-49de-a0fb-b77a6db04902",
   "metadata": {},
   "outputs": [],
   "source": [
    "import urllib3\n",
    "import shutil\n",
    "import subprocess\n",
    "import os\n",
    "import re\n",
    "from glob import glob"
   ]
  },
  {
   "cell_type": "code",
   "execution_count": 14,
   "id": "8347da9e-fc11-4c03-b069-0e2205d8e840",
   "metadata": {},
   "outputs": [
    {
     "name": "stdout",
     "output_type": "stream",
     "text": [
      "Downloading https://doi.ipk-gatersleben.de/DOI/b2f47dfb-47ff-4114-89ae-bad8dcc515a1/b6e6a2e5-2746-4522-8465-019c8f56df7f/1/DOWNLOAD\n",
      "Downloading https://doi.ipk-gatersleben.de/DOI/b2f47dfb-47ff-4114-89ae-bad8dcc515a1/5d16cc17-c37f-417f-855d-c5e72c721f6c/1/DOWNLOAD\n"
     ]
    }
   ],
   "source": [
    "os.mkdir('reference')\n",
    "http = urllib3.PoolManager()\n",
    "\n",
    "fasta_url='https://doi.ipk-gatersleben.de/DOI/b2f47dfb-47ff-4114-89ae-bad8dcc515a1/b6e6a2e5-2746-4522-8465-019c8f56df7f/1/DOWNLOAD'\n",
    "annot_url='https://doi.ipk-gatersleben.de/DOI/b2f47dfb-47ff-4114-89ae-bad8dcc515a1/5d16cc17-c37f-417f-855d-c5e72c721f6c/1/DOWNLOAD'\n",
    "fasta_path='reference/Barley_MorexV3_psuedomolecules.fasta'\n",
    "annot_path='reference/Barley_MorexV3_psuedomolecules.gff3'\n",
    "    \n",
    "print('Downloading {}'.format(fasta_url))\n",
    "with http.request('GET',fasta_url, preload_content=False) as resp, open(fasta_path, 'wb') as out_file:\n",
    "    shutil.copyfileobj(resp, out_file)\n",
    "r.release_conn()\n",
    "\n",
    "print('Downloading {}'.format(annot_url))\n",
    "with http.request('GET',annot_url, preload_content=False) as resp, open(annot_path, 'wb') as out_file:\n",
    "    shutil.copyfileobj(resp, out_file)\n",
    "r.release_conn()"
   ]
  },
  {
   "cell_type": "markdown",
   "id": "be478e92-d7cd-4b7a-86da-87fb747a88ab",
   "metadata": {},
   "source": [
    "Now we can build a BWA index..."
   ]
  },
  {
   "cell_type": "code",
   "execution_count": 19,
   "id": "6e0febb8-e580-4b9c-919f-2cf7d3e9938b",
   "metadata": {},
   "outputs": [],
   "source": [
    "os.mkdir('bwa')\n",
    "os.mkdir('logs')\n",
    "bwa_path='bwa/MorexV3'\n",
    "os.symlink('../'+fasta_path,bwa_path)\n",
    "\n",
    "process=subprocess.Popen(['bwa','index',bwa_path],\n",
    "    stdout=subprocess.PIPE,\n",
    "    stderr=subprocess.PIPE)\n",
    "stdout,stderr = process.communicate()\n",
    "\n",
    "with open('logs/bwa_morex_v3_index.out','w') as stdout_file:\n",
    "    stdout_file.write(stdout.decode('UTF-8'))\n",
    "\n",
    "with open('logs/bwa_morex_v3_index.err','w') as stderr_file:\n",
    "    stderr_file.write(stderr.decode('UTF-8'))"
   ]
  },
  {
   "cell_type": "markdown",
   "id": "fcdab315-e1ae-42d0-9b76-f834f253a071",
   "metadata": {},
   "source": [
    "...and symlink in the original QC'd fastq files..."
   ]
  },
  {
   "cell_type": "code",
   "execution_count": 15,
   "id": "ac55334e-19c7-4f09-b748-31325dc5150d",
   "metadata": {},
   "outputs": [],
   "source": [
    "files=glob('../GO_enrichment/read_qc/trim_galore/*gz')\n",
    "if not os.path.exists('fastq'):\n",
    "    os.mkdir('fastq')\n",
    "\n",
    "fq_re=re.compile(r'([0-9]{4}_[12])_val_[12].fq.gz')\n",
    "for file in files:\n",
    "    m=re.search(fq_re,file)\n",
    "    os.symlink('../'+file,'fastq/{}.fq.gz'.format(m.group(1)))"
   ]
  },
  {
   "cell_type": "code",
   "execution_count": 18,
   "id": "e7cd6898-fc37-4d63-824f-0935a9dd609f",
   "metadata": {},
   "outputs": [
    {
     "name": "stdout",
     "output_type": "stream",
     "text": [
      "#!/bin/env bash\n",
      "\n",
      "#$ -pe smp 24\n",
      "#$ -jc long\n",
      "#$ -mods l_hard h_vmem 32G\n",
      "#$ -j y\n",
      "#$ -o logs/$JOB_NAME.$JOB_ID.$TASK_ID\n",
      "#$ -cwd \n",
      "#$ -t 1-12:1\n",
      "\n",
      "readarray -t samples < <(ls -1 fastq|cut -f1 -d_|sort -u)\n",
      "sample=${samples[$SGE_TASK_ID-1]}\n",
      "\n",
      "mkdir -p bwa_alignments\n",
      "mkdir -p filtered_fastq\n",
      "\n",
      "cp -rv bwa/* $TMPDIR/\n",
      "cp -v fastq/${sample}* $TMPDIR\n",
      "bwa mem -t 24 -M $TMPDIR/MorexV3 $TMPDIR/${sample}_1.fq.gz $TMPDIR/${sample}_2.fq.gz |\\\n",
      "\tsamtools view -b -o $TMPDIR/${sample}.bam\n",
      "samtools sort -@ 24 --write-index -o $TMPDIR/${sample}.sorted.bam $TMPDIR/${sample}.bam\n",
      "samtools fastq -F 12 -f 2 -N -1 $TMPDIR/${sample}.filtered_1.fq.gz -2 $TMPDIR/${sample}.filtered_2.fq.gz \\\n",
      "\t-0 /dev/null $TMPDIR/${sample}.sorted.bam\n",
      "\n",
      "cp -v ${TMPDIR}/${sample}.sorted* bwa_alignments\n",
      "cp -v ${TMPDIR}/${sample}.filtered* filtered_fastq"
     ]
    }
   ],
   "source": [
    "%%bash\n",
    "cat bin/align_and_filter.sh\n",
    "#qsub bin/align_and_filter.sh"
   ]
  },
  {
   "cell_type": "markdown",
   "id": "5b2c0d04-4ced-4833-830b-4641f374311c",
   "metadata": {},
   "source": [
    "## Kraken\n",
    "\n",
    "We can now classify both the filtered and unfiltered reads with Kraken2 and the kraken2_pluspfp database."
   ]
  },
  {
   "cell_type": "code",
   "execution_count": 21,
   "id": "73ae8230-e435-4933-a0a0-2f4805c72a5f",
   "metadata": {},
   "outputs": [
    {
     "name": "stdout",
     "output_type": "stream",
     "text": [
      "#!/bin/env bash\n",
      "\n",
      "#$ -pe smp 24\n",
      "#$ -mods l_hard mfree 96G\n",
      "#$ -j y\n",
      "#$ -o logs/$JOB_NAME.$JOB_ID.$TASK_ID\n",
      "#$ -cwd\n",
      "#$ -t 1-12\n",
      "\n",
      "set -e\n",
      "\n",
      "# Runs kraken2 against paired fastq reads, where read filenames start with the sample followed by a '_'.\n",
      "\n",
      "# This script is designed to be run as an array job on an SGE cluster \n",
      "# which has local disk storage available on execution nodesaccessed via $TMPDIR, \n",
      "\n",
      "usage=\"Usage: $0 -i /path/to/input/fastq/directory -o /path/to/output/directory -d path/to/kraken_db\" \n",
      "\n",
      "while getopts \"i:o:d:\" opt; do\n",
      "  case \"${opt}\" in\n",
      "\ti )\n",
      "\t\tin_dir=${OPTARG}\n",
      "\t\t;;\n",
      "\to )\n",
      "\t  out_dir=${OPTARG}\n",
      "\t  ;;\n",
      "\td )\n",
      "\t\tdb=${OPTARG}\n",
      "\t  ;;\n",
      "\t\\? )\n",
      "\t\techo ${usage}\n",
      "\t  ;;\n",
      "\t: )\n",
      "\t\techo \"Invalid option: $OPTARG requires an argument\" 1>&2\n",
      "\t;;\n",
      "  esac\n",
      "done\n",
      "\n",
      "if [[ ! -e \"${in_dir}\" ]]; then\n",
      "\techo \"Specificed input directory (${indir}) does not exist\"\n",
      "\texit\n",
      "fi\n",
      "\n",
      "if [[ ! -e \"${db}\" ]]; then\n",
      "\techo \"Specificed kraken database (${db}) does not exist\"\n",
      "\texit\n",
      "fi\n",
      "\n",
      "if [[ -z \"${SGE_TASK_ID}\" ]]; then\n",
      "  echo \"This script should be executed as an SGE array job\"\n",
      "  exit\n",
      "fi\n",
      "\n",
      "mkdir -p ${out_dir}\n",
      "\n",
      "readarray -t samples < <(ls $in_dir|cut -f1 -d_|uniq)\n",
      "sample=${samples[$SGE_TASK_ID-1]}\n",
      "readarray -t files < <(ls -1 $in_dir/${sample}*|xargs -i basename {})\n",
      "\n",
      "mkdir $TMPDIR/kraken_db\n",
      "cp -v ${db}/*k2d $TMPDIR/kraken_db\n",
      "cp -v ${in_dir}/${sample}* $TMPDIR\n",
      "kraken2 --db $TMPDIR/kraken_db --threads 24 --use-names --report ${out_dir}/${sample}.report.txt \\\n",
      "\t--output ${out_dir}/${sample}.txt --gzip-compressed --paired ${TMPDIR}/${files[0]} ${TMPDIR}/${files[1]}\n",
      "bracken -d ${TMPDIR}/kraken_db -i ${out_dir}/${sample}.report.txt -o ${out_dir}/${sample}.bracken -r 150 \n",
      "\n"
     ]
    }
   ],
   "source": [
    "%%bash\n",
    "cat bin/kraken.sh"
   ]
  },
  {
   "cell_type": "code",
   "execution_count": null,
   "id": "0a238b34-5cfe-46f0-bcdc-7b32f1f9496a",
   "metadata": {},
   "outputs": [],
   "source": [
    "%%bash\n",
    "qsub bin/kraken.sh -i fastq -o kraken/nt_unfiltered -d /cluster/db/jabbott/training_data/kraken2_pluspfp_20210127/\n",
    "qsub bin/kraken.sh -i filtered_fastq -o kraken/nt_morex3 -d /cluster/db/jabbott/training_data/kraken2_pluspfp_20210127/"
   ]
  }
 ],
 "metadata": {
  "kernelspec": {
   "display_name": "Python [conda env:miniconda3-host_filter]",
   "language": "python",
   "name": "conda-env-miniconda3-host_filter-py"
  },
  "language_info": {
   "codemirror_mode": {
    "name": "ipython",
    "version": 3
   },
   "file_extension": ".py",
   "mimetype": "text/x-python",
   "name": "python",
   "nbconvert_exporter": "python",
   "pygments_lexer": "ipython3",
   "version": "3.9.7"
  }
 },
 "nbformat": 4,
 "nbformat_minor": 5
}
