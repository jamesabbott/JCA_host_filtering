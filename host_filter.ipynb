{
 "cells": [
  {
   "cell_type": "markdown",
   "id": "169049dd-0dc6-434b-a2f1-056971fe155b",
   "metadata": {},
   "source": [
    "# Host Filtering Assessment\n",
    "\n",
    "Filtering the barley genome from NT metagenomic reads was observed to bias taxonomic classifications, with a reduction in Firmicutes. Let's try to work out why...\n",
    "\n",
    "## Barley Genome\n",
    "\n",
    "We can use the Morex V3 assembly which includes PacBio HiFi reads, and so is less likely to have bacterial contaminants in the assembly than Morex V2 which was used for the previous analysis. "
   ]
  },
  {
   "cell_type": "code",
   "execution_count": 15,
   "id": "ba028406-f4f9-49de-a0fb-b77a6db04902",
   "metadata": {},
   "outputs": [],
   "source": [
    "import urllib3\n",
    "import shutil\n",
    "import subprocess\n",
    "import os"
   ]
  },
  {
   "cell_type": "code",
   "execution_count": 14,
   "id": "8347da9e-fc11-4c03-b069-0e2205d8e840",
   "metadata": {},
   "outputs": [
    {
     "name": "stdout",
     "output_type": "stream",
     "text": [
      "Downloading https://doi.ipk-gatersleben.de/DOI/b2f47dfb-47ff-4114-89ae-bad8dcc515a1/b6e6a2e5-2746-4522-8465-019c8f56df7f/1/DOWNLOAD\n",
      "Downloading https://doi.ipk-gatersleben.de/DOI/b2f47dfb-47ff-4114-89ae-bad8dcc515a1/5d16cc17-c37f-417f-855d-c5e72c721f6c/1/DOWNLOAD\n"
     ]
    }
   ],
   "source": [
    "os.mkdir('reference')\n",
    "http = urllib3.PoolManager()\n",
    "\n",
    "fasta_url='https://doi.ipk-gatersleben.de/DOI/b2f47dfb-47ff-4114-89ae-bad8dcc515a1/b6e6a2e5-2746-4522-8465-019c8f56df7f/1/DOWNLOAD'\n",
    "annot_url='https://doi.ipk-gatersleben.de/DOI/b2f47dfb-47ff-4114-89ae-bad8dcc515a1/5d16cc17-c37f-417f-855d-c5e72c721f6c/1/DOWNLOAD'\n",
    "fasta_path='reference/Barley_MorexV3_psuedomolecules.fasta'\n",
    "annot_path='reference/Barley_MorexV3_psuedomolecules.gff3'\n",
    "    \n",
    "print('Downloading {}'.format(fasta_url))\n",
    "with http.request('GET',fasta_url, preload_content=False) as resp, open(fasta_path, 'wb') as out_file:\n",
    "    shutil.copyfileobj(resp, out_file)\n",
    "r.release_conn()\n",
    "\n",
    "print('Downloading {}'.format(annot_url))\n",
    "with http.request('GET',annot_url, preload_content=False) as resp, open(annot_path, 'wb') as out_file:\n",
    "    shutil.copyfileobj(resp, out_file)\n",
    "r.release_conn()"
   ]
  },
  {
   "cell_type": "markdown",
   "id": "be478e92-d7cd-4b7a-86da-87fb747a88ab",
   "metadata": {},
   "source": [
    "Now we can build a BWA index..."
   ]
  },
  {
   "cell_type": "code",
   "execution_count": 19,
   "id": "6e0febb8-e580-4b9c-919f-2cf7d3e9938b",
   "metadata": {},
   "outputs": [],
   "source": [
    "os.mkdir('bwa')\n",
    "os.mkdir('logs')\n",
    "bwa_path='bwa/MorexV3'\n",
    "os.symlink('../'+fasta_path,bwa_path)\n",
    "\n",
    "process=subprocess.Popen(['bwa','index',bwa_path],\n",
    "    stdout=subprocess.PIPE,\n",
    "    stderr=subprocess.PIPE)\n",
    "stdout,stderr = process.communicate()\n",
    "\n",
    "with open('logs/bwa_morex_v3_index.out','w') as stdout_file:\n",
    "    stdout_file.write(stdout.decode('UTF-8'))\n",
    "\n",
    "with open('logs/bwa_morex_v3_index.err','w') as stderr_file:\n",
    "    stderr_file.write(stderr.decode('UTF-8'))"
   ]
  },
  {
   "cell_type": "code",
   "execution_count": null,
   "id": "3fa0a1a5-e749-4a9f-a00c-6876e00fae1a",
   "metadata": {},
   "outputs": [],
   "source": []
  }
 ],
 "metadata": {
  "kernelspec": {
   "display_name": "Python [conda env:miniconda3-host_filter]",
   "language": "python",
   "name": "conda-env-miniconda3-host_filter-py"
  },
  "language_info": {
   "codemirror_mode": {
    "name": "ipython",
    "version": 3
   },
   "file_extension": ".py",
   "mimetype": "text/x-python",
   "name": "python",
   "nbconvert_exporter": "python",
   "pygments_lexer": "ipython3",
   "version": "3.9.7"
  }
 },
 "nbformat": 4,
 "nbformat_minor": 5
}
